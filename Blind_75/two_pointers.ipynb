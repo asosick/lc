{
 "cells": [
  {
   "attachments": {},
   "cell_type": "markdown",
   "metadata": {},
   "source": [
    "# Two Pointers"
   ]
  },
  {
   "attachments": {},
   "cell_type": "markdown",
   "metadata": {},
   "source": [
    "#### Imports"
   ]
  },
  {
   "cell_type": "code",
   "execution_count": 1,
   "metadata": {},
   "outputs": [],
   "source": [
    "'''\n",
    "Global Imports\n",
    "'''\n",
    "# coding: utf-8\n",
    "from string import *\n",
    "from re import *\n",
    "from datetime import *\n",
    "from collections import *\n",
    "from heapq import *\n",
    "from bisect import *\n",
    "from copy import *\n",
    "from math import *\n",
    "from random import *\n",
    "from statistics import *\n",
    "from itertools import *\n",
    "from functools import *\n",
    "from operator import *\n",
    "from io import *\n",
    "from sys import *\n",
    "from json import *\n",
    "from builtins import *\n",
    "\n",
    "import string\n",
    "import re\n",
    "import datetime\n",
    "import collections\n",
    "import heapq\n",
    "import bisect\n",
    "import copy\n",
    "import math\n",
    "import random\n",
    "import statistics\n",
    "import itertools\n",
    "import functools\n",
    "import operator\n",
    "import io\n",
    "import sys\n",
    "import json\n",
    "\n",
    "from typing import *"
   ]
  },
  {
   "attachments": {},
   "cell_type": "markdown",
   "metadata": {},
   "source": [
    "## [Valid Palindrome](https://leetcode.com/problems/valid-palindrome/)\n",
    "\n",
    "### Problem\n",
    "A phrase is a palindrome if, after converting all uppercase letters into lowercase letters and removing all non-alphanumeric characters, it reads the same forward and backward. Alphanumeric characters include letters and numbers.\n",
    "\n",
    "Given a string s, return true if it is a palindrome, or false otherwise.\n",
    "\n",
    "### Basic Solution\n",
    "ord() is a great function for working with alphanumerics. There is also a isalnum() function in python for this as well. You run it off the string object.\n",
    "Well ignore isalnum() in case you forgot it during an interview however but it does simply things\n",
    "\n",
    "As for ord(), if you want to determine if something is between 'a' and 'z' and you forgot the ascii code, just find the number via ord('a'). So therefore you can do the following\n",
    "ord('a') < z < ord('z')\n",
    "\n",
    "```python\n",
    "class Solution:\n",
    "    def isPalindrome(self, s: str) -> bool:\n",
    "        def isalnum(c:str)->bool:\n",
    "            return (ord('a') <= ord(c) <= ord('z') or\n",
    "                    ord('A') <= ord(c) <= ord('Z') or\n",
    "                    ord('0') <= ord(c) <= ord('9'))\n",
    "        l = list(filter(isalnum, s.lower()))\n",
    "        return l==l[::-1]\n",
    "```\n",
    "\n",
    "### Best Solution\n",
    "The potential \"problems\" with the above code is that you are creating a new array when doing l[::-1] and you are creating a new array when you convert the filter iterable to a list.\n",
    "\n",
    "That's okay, however, an interviewer may ask for you do check if these are equivalent without adding extra memory.\n",
    "\n",
    "If so take a look at the bellow code. We're not going to create any new arrays, we'll just iterate with two pointers from left to right and right to left and check the characters are equal to each other.\n",
    "\n",
    "When thinking about it, notice how if the string is 'a&&&a', after the first round where a=a, you'll see that l will be incremented to the same index as r since all the characters aren't alphanumerics. so l == r == 3. So you might think we need to do another check after doing the while loops to recheck each index and see if its exceeded the larger while loop condition otherwise there is a potential for a mismatch as we increment l or r causing a false positive. No such issue exists however. l or r can only ever be increment to each other's value and s[l] == s[r] where l==r, so no additional check required \n",
    "\n",
    "### Complexity\n",
    "Time Complexity: O(n)\n",
    "Space Complexity: O(1)\n",
    "\n",
    "Please note that this solutions performs worse than the other, but it doesn't use extra memory which is cool.\n"
   ]
  },
  {
   "cell_type": "code",
   "execution_count": 18,
   "metadata": {},
   "outputs": [],
   "source": [
    "class Solution:\n",
    "    def isPalindrome(self, s: str) -> bool:\n",
    "        #Can still use 'a'.isalnum() as well if you want, but this is the implemenation. Note the () wrap for multiline.\n",
    "        def isalnum(c:str)->bool:\n",
    "            return (ord('a') <= ord(c) <= ord('z') or\n",
    "                    ord('A') <= ord(c) <= ord('Z') or\n",
    "                    ord('0') <= ord(c) <= ord('9'))\n",
    "\n",
    "        l,r = 0, len(s)-1\n",
    "        while l<r:\n",
    "            while l < r and not isalnum(s[l]): l+=1\n",
    "            while r > l and not isalnum(s[r]): r-=1\n",
    "            if s[l].lower() != s[r].lower():\n",
    "                return False\n",
    "            l,r = l+1, r-1\n",
    "        return True\n",
    "        \n",
    "\n",
    "\n",
    "\n",
    "        \n"
   ]
  }
 ],
 "metadata": {
  "kernelspec": {
   "display_name": "Python 3",
   "language": "python",
   "name": "python3"
  },
  "language_info": {
   "codemirror_mode": {
    "name": "ipython",
    "version": 3
   },
   "file_extension": ".py",
   "mimetype": "text/x-python",
   "name": "python",
   "nbconvert_exporter": "python",
   "pygments_lexer": "ipython3",
   "version": "3.11.2"
  },
  "orig_nbformat": 4
 },
 "nbformat": 4,
 "nbformat_minor": 2
}
