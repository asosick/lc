{
 "cells": [
  {
   "attachments": {},
   "cell_type": "markdown",
   "metadata": {},
   "source": [
    "# Arrays & Hashing"
   ]
  },
  {
   "attachments": {},
   "cell_type": "markdown",
   "metadata": {},
   "source": [
    "#### Imports"
   ]
  },
  {
   "cell_type": "code",
   "execution_count": 38,
   "metadata": {},
   "outputs": [],
   "source": [
    "'''\n",
    "Global Imports\n",
    "'''\n",
    "# coding: utf-8\n",
    "from string import *\n",
    "from re import *\n",
    "from datetime import *\n",
    "from collections import *\n",
    "from heapq import *\n",
    "from bisect import *\n",
    "from copy import *\n",
    "from math import *\n",
    "from random import *\n",
    "from statistics import *\n",
    "from itertools import *\n",
    "from functools import *\n",
    "from operator import *\n",
    "from io import *\n",
    "from sys import *\n",
    "from json import *\n",
    "from builtins import *\n",
    "\n",
    "import string\n",
    "import re\n",
    "import datetime\n",
    "import collections\n",
    "import heapq\n",
    "import bisect\n",
    "import copy\n",
    "import math\n",
    "import random\n",
    "import statistics\n",
    "import itertools\n",
    "import functools\n",
    "import operator\n",
    "import io\n",
    "import sys\n",
    "import json\n",
    "\n",
    "from typing import *"
   ]
  },
  {
   "attachments": {},
   "cell_type": "markdown",
   "metadata": {},
   "source": [
    "## [Contains Duplicate](https://leetcode.com/problems/contains-duplicate/)\n",
    "### Problem\n",
    "Given an integer array nums, return true if any value appears at least twice in the array, and return false if every element is distinct.\n",
    "### Solution\n",
    "The solutions is straightforward.\n",
    "Find the difference between the length of the array and then convert the array to a set and detect if there is a difference\n",
    "\n",
    "### Complexity\n"
   ]
  },
  {
   "cell_type": "code",
   "execution_count": 39,
   "metadata": {},
   "outputs": [],
   "source": [
    "class Solution:\n",
    "    def containsDuplicate(self, nums: List[int]) -> bool:\n",
    "        return len(nums) - len(set(nums)) != 0"
   ]
  },
  {
   "attachments": {},
   "cell_type": "markdown",
   "metadata": {},
   "source": [
    "## [Valid Anagram](https://leetcode.com/problems/valid-anagram/)\n",
    "### Problem\n",
    "Given two strings s and t, return true if t is an anagram of s, and false otherwise.\n",
    "\n",
    "An Anagram is a word or phrase formed by rearranging the letters of a different word or phrase, typically using all the original letters exactly once.\n",
    "\n",
    "### Solution\n",
    "The solution is trival.\n",
    "Use the built in Counter to count the number of occurances and compare the two strings. If the count is the same then you've solved the problem\n",
    "\n",
    "For space of zero, you could also sort the arrays to not create additional memory and then return the boolean indicating if they are equal\n",
    "\n",
    "### Complexity\n"
   ]
  },
  {
   "cell_type": "code",
   "execution_count": 40,
   "metadata": {},
   "outputs": [],
   "source": [
    "class Solution:\n",
    "    def isAnagram(self, s: str, t: str) -> bool:\n",
    "        return Counter(s) == Counter(t)"
   ]
  },
  {
   "attachments": {},
   "cell_type": "markdown",
   "metadata": {},
   "source": [
    "## [Two Sum](https://leetcode.com/problems/two-sum/)\n",
    "### Problem\n",
    "Given an array of integers nums and an integer target, return indices of the two numbers such that they add up to target.\n",
    "\n",
    "You may assume that each input would have exactly one solution, and you may not use the same element twice.\n",
    "\n",
    "You can return the answer in any order.\n",
    "\n",
    "### Solution\n",
    "The trivial solution for this is to pick one element then iterate through all other elements to try to determine if the value add to the target\n",
    "\n",
    "The much better solution is to try to reduce the problem to one pass through the array.\n",
    "You can do this by storing values from the nums array in a dict with their index as the value\n",
    "\n",
    "You then can iterate through and try to determine which values would be required for the current index to get the desired target by taking the difference and then finding if your set has that value already stored\n",
    "\n",
    "### Complexity\n",
    "\n",
    "\n"
   ]
  },
  {
   "cell_type": "code",
   "execution_count": 41,
   "metadata": {},
   "outputs": [],
   "source": [
    "class Solution:\n",
    "    def twoSum(self, nums: List[int], target: int) -> List[int]:\n",
    "        m = {}\n",
    "        for i, v in enumerate(nums):\n",
    "            n = target - v\n",
    "            if n in m:\n",
    "                return [m[n], i]\n",
    "            else:\n",
    "                m[v] = i\n",
    "        return []\n",
    "    "
   ]
  },
  {
   "attachments": {},
   "cell_type": "markdown",
   "metadata": {},
   "source": [
    "## [Group Anagrams](https://leetcode.com/problems/group-anagrams/)\n",
    "### Problem\n",
    "Given an array of strings strs, group the anagrams together. You can return the answer in any order.\n",
    "\n",
    "An Anagram is a word or phrase formed by rearranging the letters of a different word or phrase, typically using all the original letters exactly once.\n",
    "\n",
    "### Solution\n",
    "The general solution here is to sort the strings to determine their anagrams then use their string as the key. Since strings can't be keys, convert the program to use a tuple as a key.\n",
    "\n",
    "This can be reduced in size but below solution is clear.\n",
    "\n",
    "### Complexity\n",
    "Time Complexity: O(NKlogK)\n",
    "Space Complexity: O(NK)\n",
    "\n",
    "where n is the length of strs, and k is the max length of a string\n",
    "\n"
   ]
  },
  {
   "cell_type": "code",
   "execution_count": 42,
   "metadata": {},
   "outputs": [],
   "source": [
    "class Solution:\n",
    "    def groupAnagrams(self, strs: List[str]) -> List[List[str]]:\n",
    "        ans = {}\n",
    "        for x in strs:\n",
    "            y = tuple(sorted(x))\n",
    "            if y in ans:\n",
    "                ans[y].append(x)\n",
    "            else:\n",
    "                ans[y] = [x]\n",
    "        return ans.values()\n"
   ]
  },
  {
   "attachments": {},
   "cell_type": "markdown",
   "metadata": {},
   "source": [
    "## [Top K Frequent Elements](https://leetcode.com/problems/top-k-frequent-elements/)\n",
    "### Problem\n",
    "Given an integer array nums and an integer k, return the k most frequent elements. You may return the answer in any order.\n",
    "\n",
    "### Solution\n",
    "One of the solutions is using counter to gather the frequency of a particular element then use a list comprehension to sort by value and finally splice the array to k\n",
    "\n",
    "Or even better!\n",
    "\n",
    "return [x for x, y in Counter(nums).most_common(k)]\n",
    "\n",
    "### Complexity\n",
    "Time Complexity: O(NLogK)\n",
    "\n",
    "Space Complexity: O(N + K)"
   ]
  },
  {
   "cell_type": "code",
   "execution_count": 43,
   "metadata": {},
   "outputs": [],
   "source": [
    "class Solution:\n",
    "    def topKFrequent(self, nums: List[int], k: int) -> List[int]:\n",
    "        return [key for key, _ in sorted(Counter(nums).items(), key=lambda x: x[1], reverse=True)][:k]\n"
   ]
  },
  {
   "attachments": {},
   "cell_type": "markdown",
   "metadata": {},
   "source": [
    "## [Product of Array Except Self](https://leetcode.com/problems/product-of-array-except-self/)\n",
    "### Problem\n",
    "Given an integer array nums, return an array answer such that answer[i] is equal to the product of all the elements of nums except nums[i].\n",
    "\n",
    "The product of any prefix or suffix of nums is guaranteed to fit in a 32-bit integer.\n",
    "\n",
    "You must write an algorithm that runs in O(n) time and without using the division operation.\n",
    "\n",
    "### Brute Force (FAILS)\n",
    "The brute force solution is to use array splicing to splice the array at each section to avoid counting the current index. That solution appears as so\n",
    "\n",
    "```python\n",
    "class Solution:\n",
    "    def productExceptSelf(self, nums: List[int]) -> List[int]:\n",
    "        ans = []\n",
    "        i = 1\n",
    "        for n in nums:\n",
    "            ans.append(prod(nums[:i-1]+nums[i:]))\n",
    "            i+=1\n",
    "        return ans\n",
    "```\n",
    "\n",
    "We'll need a better solution however\n",
    "\n",
    "### Solution\n",
    "\n",
    "To be fair, the above bruthe force solution actually provides good insight into the problem.\n",
    "As you can imagine, find the prod of left and right for each index takes a lot of time.\n",
    "We should try to store some values to make this process smoother\n",
    "\n",
    "Additional note: O(n) does not imply one pass. If you need to iterate the array 3 times but its a constant three times so O(3n), that becomes O(n) and is acceptable\n",
    "\n",
    "\n",
    "If you take a look and try to find the running product of [1,2,3,4] you'll see that for any i of ans, ans[i] = L[i-1] * R[i+1] given conditions on i for keeping in bounds and where L,R are the running products of the original array from left to right respectively.\n",
    "\n",
    "I encourage you to write out those running averages and see the relationship for yourself.\n",
    "\n",
    "The tricky part of this is actually just creating those running product arrays, particulary the inversed on and not screwing things up. You should practice that.\n",
    "\n",
    "### Complexity\n",
    "Time Complexity: O()\n",
    "\n",
    "Space Complexity: O()"
   ]
  },
  {
   "cell_type": "code",
   "execution_count": 67,
   "metadata": {},
   "outputs": [
    {
     "name": "stdout",
     "output_type": "stream",
     "text": [
      "[144, 72, 24, 6]\n"
     ]
    }
   ],
   "source": [
    "class Solution:\n",
    "    def productExceptSelf(self, nums: List[int]) -> List[int]:\n",
    "        length = len(nums)\n",
    "        L = R = ans = [0] * length  \n",
    "\n",
    "        #Create your running product for L\n",
    "        L[0] = nums[0]\n",
    "        for i in range(1, length):\n",
    "            L[i] = nums[i] * L[i-1]\n",
    "\n",
    "        #Create your running product for R\n",
    "        R[-1] = nums[-1] \n",
    "        for i in range(length-1, -1, -1):\n",
    "            R[i] = nums[i] * R[i-1]\n",
    "        \n",
    "        # for i in range(length):\n",
    "        #     ans = \n",
    "\n",
    "nums=[1,2,3,4]\n",
    "length = len(nums)\n",
    "ans = [0]*length\n",
    "\n",
    "ans[0] = 1\n",
    "for i in range(1, length):\n",
    "    ans[i] = nums[i-1] * ans[i-1]\n",
    "\n",
    "#Create your running product for R\n",
    "for i in range(length-2, -1, -1):\n",
    "    ans[i] = nums[i+1] * ans[i+1]\n",
    "\n",
    "print(ans)\n"
   ]
  },
  {
   "attachments": {},
   "cell_type": "markdown",
   "metadata": {},
   "source": [
    "## [Valid Sudoku](https://leetcode.com/problems/valid-sudoku/)\n",
    "### Problem\n",
    "Determine if a 9 x 9 Sudoku board is valid. Only the filled cells need to be validated according to the following rules:\n",
    "\n",
    "Each row must contain the digits 1-9 without repetition.\n",
    "Each column must contain the digits 1-9 without repetition.\n",
    "Each of the nine 3 x 3 sub-boxes of the grid must contain the digits 1-9 without repetition.\n",
    "Note:\n",
    "\n",
    "A Sudoku board (partially filled) could be valid but is not necessarily solvable.\n",
    "Only the filled cells need to be validated according to the mentioned rules.\n",
    "\n",
    "\n",
    "### Solution\n",
    "\n",
    "The solution that is the most basic is to use hashmaps to store the values.\n",
    "\n",
    "You might get hung up on the defaultdict(set) but what it does is accept a key even if that is not in the dict, and create an associated set. Thats why row[r].add(board[r][c]) works since\n",
    "because if row[r] is not in the row dict, a new entry is created for {r:set()} and then you then add a value to that set after the add command. \n",
    "\n",
    "You keep track of 9 sets for columns, 9 sets for rows, 9 sets for the boxes.\n",
    "\n",
    "The whole algorithm traverses the same distance each time meaning the tme complexity is fixed.\n",
    "\n",
    "Also there are other methods for this, and even the below solution is pretty slow, but it works fine enough\n",
    "\n",
    "### Complexity\n",
    "Time Complexity: O(1) really 9^2\n",
    "\n",
    "Space Complexity: O(1) really 9^2"
   ]
  },
  {
   "cell_type": "code",
   "execution_count": null,
   "metadata": {},
   "outputs": [],
   "source": [
    "class Solution:\n",
    "    def isValidSudoku(self, board: List[List[str]]) -> bool:\n",
    "        row = collections.defaultdict(set)\n",
    "        col = collections.defaultdict(set)\n",
    "        box = collections.defaultdict(set)\n",
    "\n",
    "        for r in range(9):\n",
    "            for c in range(9):\n",
    "                if board[r][c] == '.': continue\n",
    "                if(board[r][c] in row[r] or\n",
    "                    board[r][c] in col[c] or\n",
    "                    board[r][c] in box[(r//3,c//3)]):\n",
    "                    return False\n",
    "                row[r].add(board[r][c])\n",
    "                col[c].add(board[r][c])\n",
    "                box[(r//3,c//3)].add(board[r][c])\n",
    "        return True"
   ]
  }
 ],
 "metadata": {
  "kernelspec": {
   "display_name": "Python 3",
   "language": "python",
   "name": "python3"
  },
  "language_info": {
   "codemirror_mode": {
    "name": "ipython",
    "version": 3
   },
   "file_extension": ".py",
   "mimetype": "text/x-python",
   "name": "python",
   "nbconvert_exporter": "python",
   "pygments_lexer": "ipython3",
   "version": "3.11.2"
  },
  "orig_nbformat": 4
 },
 "nbformat": 4,
 "nbformat_minor": 2
}
