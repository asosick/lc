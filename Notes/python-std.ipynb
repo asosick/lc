{
 "cells": [
  {
   "attachments": {},
   "cell_type": "markdown",
   "metadata": {},
   "source": [
    "# Overview useful py functions"
   ]
  },
  {
   "attachments": {},
   "cell_type": "markdown",
   "metadata": {},
   "source": [
    "### Imports"
   ]
  },
  {
   "cell_type": "code",
   "execution_count": 4,
   "metadata": {},
   "outputs": [],
   "source": [
    "'''\n",
    "Global Imports\n",
    "'''\n",
    "# coding: utf-8\n",
    "from string import *\n",
    "from re import *\n",
    "from datetime import *\n",
    "from collections import *\n",
    "from heapq import *\n",
    "from bisect import *\n",
    "from copy import *\n",
    "from math import *\n",
    "from random import *\n",
    "from statistics import *\n",
    "from itertools import *\n",
    "from functools import *\n",
    "from operator import *\n",
    "from io import *\n",
    "from sys import *\n",
    "from json import *\n",
    "from builtins import *\n",
    "\n",
    "import string\n",
    "import re\n",
    "import datetime\n",
    "import collections\n",
    "import heapq\n",
    "import bisect\n",
    "import copy\n",
    "import math\n",
    "import random\n",
    "import statistics\n",
    "import itertools\n",
    "import functools\n",
    "import operator\n",
    "import io\n",
    "import sys\n",
    "import json\n",
    "\n",
    "from typing import *"
   ]
  },
  {
   "attachments": {},
   "cell_type": "markdown",
   "metadata": {},
   "source": [
    "# Counter\n",
    "The counter is useful for counting the number of occurance of a list.\n",
    "\n",
    "Note that creating a counter is O(n)"
   ]
  },
  {
   "cell_type": "code",
   "execution_count": 33,
   "metadata": {},
   "outputs": [
    {
     "name": "stdout",
     "output_type": "stream",
     "text": [
      "Counter({'a': 3, 'b': 1, 'c': 1})\n"
     ]
    }
   ],
   "source": [
    "a = ['a','b','a','a','c']\n",
    "print(Counter(a))"
   ]
  },
  {
   "attachments": {},
   "cell_type": "markdown",
   "metadata": {},
   "source": [
    "# Dictonaries\n",
    "\n",
    "## Useful commands"
   ]
  },
  {
   "cell_type": "code",
   "execution_count": 7,
   "metadata": {},
   "outputs": [
    {
     "name": "stdout",
     "output_type": "stream",
     "text": [
      "defaultdict(<class 'list'>, {1: []})\n",
      "defaultdict(<class 'list'>, {1: [], 2: ['b']})\n"
     ]
    }
   ],
   "source": [
    "'''\n",
    "A collections default dict is useful because it will add a value if you try to access something not in the dict already.\n",
    "Example\n",
    "'''\n",
    "a = defaultdict(list)\n",
    "a[1] #trying to access the a dict with a key of one will actually create the entry a:[]\n",
    "print(a)\n",
    "#This allows u to access that list for example\n",
    "#You can do some nice stuff with this\n",
    "a[2].append('b')\n",
    "#Will create a new entry in a for {2: ['b']}\n",
    "#Does this without having to add 2:[] to the dict\n",
    "print(a)\n"
   ]
  },
  {
   "attachments": {},
   "cell_type": "markdown",
   "metadata": {},
   "source": [
    "# Sort\n",
    "\n",
    "## Sort vs. sorted\n",
    "sorted returns a new array.\n",
    "\n",
    "sort sorts the array in place\n",
    "\n",
    "## Default sort order\n",
    "Please note that the default sort order for python is least to most\n",
    "\n",
    "so [1,5,2,3] becomes [1,2,3,5]\n",
    "\n",
    "To change the order use the flag, reverse = True"
   ]
  },
  {
   "cell_type": "code",
   "execution_count": 34,
   "metadata": {},
   "outputs": [
    {
     "name": "stdout",
     "output_type": "stream",
     "text": [
      "[('a', 1), ('c', 2), ('b', 3)]\n"
     ]
    }
   ],
   "source": [
    "'''\n",
    "Custom sort function to sort an array of tuples by the second element\n",
    "'''\n",
    "a = [('a',1),('b',3),('c',2)]\n",
    "print(sorted(a, key=lambda x : x[1]))"
   ]
  },
  {
   "attachments": {},
   "cell_type": "markdown",
   "metadata": {},
   "source": [
    "# Lists\n",
    "\n",
    "### Insert\n",
    "\n",
    "You can insert at the beginning of an array via\n",
    "```python\n",
    "arr.insert(0, 'b') # where 0 is the index you're inserting into, i.e. the beginning of the array\n",
    "```"
   ]
  },
  {
   "attachments": {},
   "cell_type": "markdown",
   "metadata": {},
   "source": [
    "# Ranges\n",
    "\n",
    "### Forwards and Backwards Ranges\n"
   ]
  },
  {
   "cell_type": "code",
   "execution_count": 35,
   "metadata": {},
   "outputs": [
    {
     "name": "stdout",
     "output_type": "stream",
     "text": [
      "Iterating to len(a): 0,1,2,3,4,\n",
      "Using -1 in range: 4,3,2,1,0,\n",
      "Using reversed(): 4,3,2,1,0,\n"
     ]
    }
   ],
   "source": [
    "#You can reverse a range via\n",
    "\n",
    "a = [1,2,3,4,5]\n",
    "\n",
    "s=''\n",
    "for i in range(len(a)):\n",
    "    s += f'{i},'\n",
    "print('Iterating to len(a): ' + s)\n",
    "\n",
    "s=''\n",
    "for i in range(len(a)-1, -1, -1):\n",
    "    s += f'{i},'\n",
    "print('Using -1 in range: ' + s)\n",
    "\n",
    "s=''\n",
    "for i in reversed(range(len(a))):\n",
    "   s += f'{i},'\n",
    "print('Using reversed(): ' + s)\n",
    "\n",
    "\n"
   ]
  },
  {
   "attachments": {},
   "cell_type": "markdown",
   "metadata": {},
   "source": [
    "It's important to note with ranges the following\n",
    "\n",
    "range(x,y)\n",
    "your range will begin with and include x, and go up to y. Meaning it will include all values from x to y, including x but excluding y"
   ]
  },
  {
   "cell_type": "code",
   "execution_count": 38,
   "metadata": {},
   "outputs": [
    {
     "name": "stdout",
     "output_type": "stream",
     "text": [
      "[0, 1, 2, 3, 4, 5, 6]\n",
      "[6, 5, 4, 3, 2, 1, 0]\n"
     ]
    }
   ],
   "source": [
    "print(list(range(0,7)))\n",
    "print(list(range(6,-1,-1)))"
   ]
  }
 ],
 "metadata": {
  "kernelspec": {
   "display_name": "Python 3",
   "language": "python",
   "name": "python3"
  },
  "language_info": {
   "codemirror_mode": {
    "name": "ipython",
    "version": 3
   },
   "file_extension": ".py",
   "mimetype": "text/x-python",
   "name": "python",
   "nbconvert_exporter": "python",
   "pygments_lexer": "ipython3",
   "version": "3.11.2"
  },
  "orig_nbformat": 4
 },
 "nbformat": 4,
 "nbformat_minor": 2
}
