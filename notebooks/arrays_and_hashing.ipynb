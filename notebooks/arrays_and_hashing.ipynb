{
 "cells": [
  {
   "attachments": {},
   "cell_type": "markdown",
   "metadata": {},
   "source": [
    "# Arrays & Hashing"
   ]
  },
  {
   "attachments": {},
   "cell_type": "markdown",
   "metadata": {},
   "source": [
    "#### Imports"
   ]
  },
  {
   "cell_type": "code",
   "execution_count": 59,
   "metadata": {},
   "outputs": [],
   "source": [
    "'''\n",
    "Global Imports\n",
    "'''\n",
    "# coding: utf-8\n",
    "from string import *\n",
    "from re import *\n",
    "from datetime import *\n",
    "from collections import *\n",
    "from heapq import *\n",
    "from bisect import *\n",
    "from copy import *\n",
    "from math import *\n",
    "from random import *\n",
    "from statistics import *\n",
    "from itertools import *\n",
    "from functools import *\n",
    "from operator import *\n",
    "from io import *\n",
    "from sys import *\n",
    "from json import *\n",
    "from builtins import *\n",
    "\n",
    "import string\n",
    "import re\n",
    "import datetime\n",
    "import collections\n",
    "import heapq\n",
    "import bisect\n",
    "import copy\n",
    "import math\n",
    "import random\n",
    "import statistics\n",
    "import itertools\n",
    "import functools\n",
    "import operator\n",
    "import io\n",
    "import sys\n",
    "import json\n",
    "\n",
    "from typing import *"
   ]
  },
  {
   "attachments": {},
   "cell_type": "markdown",
   "metadata": {},
   "source": [
    "## [Contains Duplicate](https://leetcode.com/problems/contains-duplicate/)\n",
    "### Problem\n",
    "Given an integer array nums, return true if any value appears at least twice in the array, and return false if every element is distinct.\n",
    "### Solution\n",
    "The solutions is straightforward.\n",
    "Find the difference between the length of the array and then convert the array to a set and detect if there is a difference\n",
    "\n",
    "### Complexity\n"
   ]
  },
  {
   "cell_type": "code",
   "execution_count": 60,
   "metadata": {},
   "outputs": [],
   "source": [
    "class Solution:\n",
    "    def containsDuplicate(self, nums: List[int]) -> bool:\n",
    "        return len(nums) - len(set(nums)) != 0"
   ]
  },
  {
   "attachments": {},
   "cell_type": "markdown",
   "metadata": {},
   "source": [
    "## [Valid Anagram](https://leetcode.com/problems/valid-anagram/)\n",
    "### Problem\n",
    "Given two strings s and t, return true if t is an anagram of s, and false otherwise.\n",
    "\n",
    "An Anagram is a word or phrase formed by rearranging the letters of a different word or phrase, typically using all the original letters exactly once.\n",
    "\n",
    "### Solution\n",
    "The solution is trival.\n",
    "Use the built in Counter to count the number of occurances and compare the two strings. If the count is the same then you've solved the problem\n",
    "\n",
    "For space of zero, you could also sort the arrays to not create additional memory and then return the boolean indicating if they are equal\n",
    "\n",
    "### Complexity\n"
   ]
  },
  {
   "cell_type": "code",
   "execution_count": 61,
   "metadata": {},
   "outputs": [],
   "source": [
    "class Solution:\n",
    "    def isAnagram(self, s: str, t: str) -> bool:\n",
    "        return Counter(s) == Counter(t)"
   ]
  },
  {
   "attachments": {},
   "cell_type": "markdown",
   "metadata": {},
   "source": [
    "## [Two Sum](https://leetcode.com/problems/two-sum/)\n",
    "### Problem\n",
    "Given an array of integers nums and an integer target, return indices of the two numbers such that they add up to target.\n",
    "\n",
    "You may assume that each input would have exactly one solution, and you may not use the same element twice.\n",
    "\n",
    "You can return the answer in any order.\n",
    "\n",
    "### Solution\n",
    "The trivial solution for this is to pick one element then iterate through all other elements to try to determine if the value add to the target\n",
    "\n",
    "The much better solution is to try to reduce the problem to one pass through the array.\n",
    "You can do this by storing values from the nums array in a dict with their index as the value\n",
    "\n",
    "You then can iterate through and try to determine which values would be required for the current index to get the desired target by taking the difference and then finding if your set has that value already stored\n",
    "\n",
    "### Complexity\n",
    "\n",
    "\n"
   ]
  },
  {
   "cell_type": "code",
   "execution_count": 62,
   "metadata": {},
   "outputs": [],
   "source": [
    "class Solution:\n",
    "    def twoSum(self, nums: List[int], target: int) -> List[int]:\n",
    "        m = {}\n",
    "        for i, v in enumerate(nums):\n",
    "            n = target - v\n",
    "            if n in m:\n",
    "                return [m[n], i]\n",
    "            else:\n",
    "                m[v] = i\n",
    "        return []\n",
    "    "
   ]
  },
  {
   "attachments": {},
   "cell_type": "markdown",
   "metadata": {},
   "source": [
    "## [Group Anagrams](https://leetcode.com/problems/group-anagrams/)\n",
    "### Problem\n",
    "Given an array of strings strs, group the anagrams together. You can return the answer in any order.\n",
    "\n",
    "An Anagram is a word or phrase formed by rearranging the letters of a different word or phrase, typically using all the original letters exactly once.\n",
    "\n",
    "### Solution\n",
    "The general solution here is to sort the strings to determine their anagrams then use their string as the key. Since strings can't be keys, convert the program to use a tuple as a key.\n",
    "\n",
    "This can be reduced in size but below solution is clear.\n",
    "\n",
    "### Complexity\n",
    "Time Complexity: O(NKlogK)\n",
    "Space Complexity: O(NK)\n",
    "\n",
    "where n is the length of strs, and k is the max length of a string\n",
    "\n"
   ]
  },
  {
   "cell_type": "code",
   "execution_count": 63,
   "metadata": {},
   "outputs": [],
   "source": [
    "class Solution:\n",
    "    def groupAnagrams(self, strs: List[str]) -> List[List[str]]:\n",
    "        ans = {}\n",
    "        for x in strs:\n",
    "            y = tuple(sorted(x))\n",
    "            if y in ans:\n",
    "                ans[y].append(x)\n",
    "            else:\n",
    "                ans[y] = [x]\n",
    "        return ans.values()\n"
   ]
  },
  {
   "attachments": {},
   "cell_type": "markdown",
   "metadata": {},
   "source": [
    "## [Top K Frequent Elements](https://leetcode.com/problems/top-k-frequent-elements/)\n",
    "### Problem\n",
    "Given an integer array nums and an integer k, return the k most frequent elements. You may return the answer in any order.\n",
    "\n",
    "### Solution\n",
    "\n",
    "\n",
    "### Complexity\n",
    "Time Complexity: O()\n",
    "Space Complexity: O()"
   ]
  },
  {
   "cell_type": "code",
   "execution_count": 64,
   "metadata": {},
   "outputs": [
    {
     "ename": "SyntaxError",
     "evalue": "incomplete input (2029573579.py, line 2)",
     "output_type": "error",
     "traceback": [
      "\u001b[0;36m  Cell \u001b[0;32mIn[64], line 2\u001b[0;36m\u001b[0m\n\u001b[0;31m    def topKFrequent(self, nums: List[int], k: int) -> List[int]:\u001b[0m\n\u001b[0m                                                                 ^\u001b[0m\n\u001b[0;31mSyntaxError\u001b[0m\u001b[0;31m:\u001b[0m incomplete input\n"
     ]
    }
   ],
   "source": [
    "class Solution:\n",
    "    def topKFrequent(self, nums: List[int], k: int) -> List[int]:"
   ]
  }
 ],
 "metadata": {
  "kernelspec": {
   "display_name": "Python 3",
   "language": "python",
   "name": "python3"
  },
  "language_info": {
   "codemirror_mode": {
    "name": "ipython",
    "version": 3
   },
   "file_extension": ".py",
   "mimetype": "text/x-python",
   "name": "python",
   "nbconvert_exporter": "python",
   "pygments_lexer": "ipython3",
   "version": "3.11.2"
  },
  "orig_nbformat": 4
 },
 "nbformat": 4,
 "nbformat_minor": 2
}
